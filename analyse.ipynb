{
 "cells": [
  {
   "cell_type": "code",
   "execution_count": 1,
   "id": "d342d4ce-ce8a-4ce4-86a8-0ac69a8f67d9",
   "metadata": {},
   "outputs": [],
   "source": [
    "import pandas as pd\n",
    "import numpy as np\n",
    "import matplotlib.pyplot as plt\n",
    "import seaborn as sns"
   ]
  },
  {
   "cell_type": "code",
   "execution_count": 2,
   "id": "4d55342f-3ca3-42a8-8013-cba6efc6c259",
   "metadata": {},
   "outputs": [
    {
     "data": {
      "text/html": [
       "<div>\n",
       "<style scoped>\n",
       "    .dataframe tbody tr th:only-of-type {\n",
       "        vertical-align: middle;\n",
       "    }\n",
       "\n",
       "    .dataframe tbody tr th {\n",
       "        vertical-align: top;\n",
       "    }\n",
       "\n",
       "    .dataframe thead th {\n",
       "        text-align: right;\n",
       "    }\n",
       "</style>\n",
       "<table border=\"1\" class=\"dataframe\">\n",
       "  <thead>\n",
       "    <tr style=\"text-align: right;\">\n",
       "      <th></th>\n",
       "      <th>date</th>\n",
       "      <th>group</th>\n",
       "      <th>requests</th>\n",
       "      <th>gmv</th>\n",
       "      <th>coupon per trip</th>\n",
       "      <th>trips</th>\n",
       "      <th>canceled requests</th>\n",
       "    </tr>\n",
       "  </thead>\n",
       "  <tbody>\n",
       "    <tr>\n",
       "      <th>0</th>\n",
       "      <td>2019-01-01</td>\n",
       "      <td>control</td>\n",
       "      <td>30</td>\n",
       "      <td>7486.620</td>\n",
       "      <td>1.069746</td>\n",
       "      <td>24</td>\n",
       "      <td>1</td>\n",
       "    </tr>\n",
       "    <tr>\n",
       "      <th>1</th>\n",
       "      <td>2019-01-02</td>\n",
       "      <td>control</td>\n",
       "      <td>152</td>\n",
       "      <td>38301.575</td>\n",
       "      <td>1.044199</td>\n",
       "      <td>121</td>\n",
       "      <td>8</td>\n",
       "    </tr>\n",
       "    <tr>\n",
       "      <th>2</th>\n",
       "      <td>2019-01-03</td>\n",
       "      <td>control</td>\n",
       "      <td>267</td>\n",
       "      <td>67768.425</td>\n",
       "      <td>1.032276</td>\n",
       "      <td>215</td>\n",
       "      <td>14</td>\n",
       "    </tr>\n",
       "    <tr>\n",
       "      <th>3</th>\n",
       "      <td>2019-01-04</td>\n",
       "      <td>control</td>\n",
       "      <td>369</td>\n",
       "      <td>94992.900</td>\n",
       "      <td>1.028196</td>\n",
       "      <td>298</td>\n",
       "      <td>19</td>\n",
       "    </tr>\n",
       "    <tr>\n",
       "      <th>4</th>\n",
       "      <td>2019-01-05</td>\n",
       "      <td>control</td>\n",
       "      <td>478</td>\n",
       "      <td>123236.875</td>\n",
       "      <td>1.011807</td>\n",
       "      <td>390</td>\n",
       "      <td>24</td>\n",
       "    </tr>\n",
       "  </tbody>\n",
       "</table>\n",
       "</div>"
      ],
      "text/plain": [
       "        date    group  requests         gmv  coupon per trip  trips  \\\n",
       "0 2019-01-01  control        30    7486.620         1.069746     24   \n",
       "1 2019-01-02  control       152   38301.575         1.044199    121   \n",
       "2 2019-01-03  control       267   67768.425         1.032276    215   \n",
       "3 2019-01-04  control       369   94992.900         1.028196    298   \n",
       "4 2019-01-05  control       478  123236.875         1.011807    390   \n",
       "\n",
       "   canceled requests  \n",
       "0                  1  \n",
       "1                  8  \n",
       "2                 14  \n",
       "3                 19  \n",
       "4                 24  "
      ]
     },
     "execution_count": 2,
     "metadata": {},
     "output_type": "execute_result"
    }
   ],
   "source": [
    "# 数据导入\n",
    "dataset = pd.read_excel(r\"D:\\Codes\\data\\test.xlsx\")\n",
    "dataset.head()"
   ]
  },
  {
   "cell_type": "code",
   "execution_count": 3,
   "id": "046685da-811e-4b90-aae8-84b30d0411fc",
   "metadata": {},
   "outputs": [
    {
     "data": {
      "text/plain": [
       "date                 0\n",
       "group                0\n",
       "requests             0\n",
       "gmv                  0\n",
       "coupon per trip      0\n",
       "trips                0\n",
       "canceled requests    0\n",
       "dtype: int64"
      ]
     },
     "execution_count": 3,
     "metadata": {},
     "output_type": "execute_result"
    }
   ],
   "source": [
    "# 数据清洗\n",
    "# 空\n",
    "dataset.isna().sum()"
   ]
  },
  {
   "cell_type": "code",
   "execution_count": 4,
   "id": "1e73787a-3681-41b4-9f69-30721d54da4a",
   "metadata": {},
   "outputs": [
    {
     "data": {
      "text/plain": [
       "0"
      ]
     },
     "execution_count": 4,
     "metadata": {},
     "output_type": "execute_result"
    }
   ],
   "source": [
    "# 重\n",
    "dataset.duplicated().sum()"
   ]
  },
  {
   "cell_type": "code",
   "execution_count": 5,
   "id": "62ae7b80-9b36-41f3-8173-4d4c4c5fdbab",
   "metadata": {},
   "outputs": [
    {
     "data": {
      "text/plain": [
       "date                 29\n",
       "group                 2\n",
       "requests             56\n",
       "gmv                  58\n",
       "coupon per trip      58\n",
       "trips                57\n",
       "canceled requests    52\n",
       "dtype: int64"
      ]
     },
     "execution_count": 5,
     "metadata": {},
     "output_type": "execute_result"
    }
   ],
   "source": [
    "# 无用列\n",
    "dataset.nunique()"
   ]
  },
  {
   "cell_type": "code",
   "execution_count": 6,
   "id": "354d3c62-8ac9-40ce-95cd-469a2fa3d351",
   "metadata": {},
   "outputs": [
    {
     "data": {
      "text/html": [
       "<div>\n",
       "<style scoped>\n",
       "    .dataframe tbody tr th:only-of-type {\n",
       "        vertical-align: middle;\n",
       "    }\n",
       "\n",
       "    .dataframe tbody tr th {\n",
       "        vertical-align: top;\n",
       "    }\n",
       "\n",
       "    .dataframe thead th {\n",
       "        text-align: right;\n",
       "    }\n",
       "</style>\n",
       "<table border=\"1\" class=\"dataframe\">\n",
       "  <thead>\n",
       "    <tr style=\"text-align: right;\">\n",
       "      <th></th>\n",
       "      <th>date</th>\n",
       "      <th>requests</th>\n",
       "      <th>gmv</th>\n",
       "      <th>coupon per trip</th>\n",
       "      <th>trips</th>\n",
       "      <th>canceled requests</th>\n",
       "    </tr>\n",
       "  </thead>\n",
       "  <tbody>\n",
       "    <tr>\n",
       "      <th>count</th>\n",
       "      <td>58</td>\n",
       "      <td>58.000000</td>\n",
       "      <td>5.800000e+01</td>\n",
       "      <td>58.000000</td>\n",
       "      <td>58.000000</td>\n",
       "      <td>58.000000</td>\n",
       "    </tr>\n",
       "    <tr>\n",
       "      <th>mean</th>\n",
       "      <td>2019-01-15 00:00:00</td>\n",
       "      <td>2046.224138</td>\n",
       "      <td>4.820680e+05</td>\n",
       "      <td>0.848199</td>\n",
       "      <td>1633.551724</td>\n",
       "      <td>146.431034</td>\n",
       "    </tr>\n",
       "    <tr>\n",
       "      <th>min</th>\n",
       "      <td>2019-01-01 00:00:00</td>\n",
       "      <td>30.000000</td>\n",
       "      <td>7.382210e+03</td>\n",
       "      <td>0.723737</td>\n",
       "      <td>24.000000</td>\n",
       "      <td>1.000000</td>\n",
       "    </tr>\n",
       "    <tr>\n",
       "      <th>25%</th>\n",
       "      <td>2019-01-08 00:00:00</td>\n",
       "      <td>968.750000</td>\n",
       "      <td>2.336387e+05</td>\n",
       "      <td>0.756524</td>\n",
       "      <td>799.250000</td>\n",
       "      <td>45.500000</td>\n",
       "    </tr>\n",
       "    <tr>\n",
       "      <th>50%</th>\n",
       "      <td>2019-01-15 00:00:00</td>\n",
       "      <td>2203.500000</td>\n",
       "      <td>5.092359e+05</td>\n",
       "      <td>0.790527</td>\n",
       "      <td>1745.000000</td>\n",
       "      <td>168.000000</td>\n",
       "    </tr>\n",
       "    <tr>\n",
       "      <th>75%</th>\n",
       "      <td>2019-01-22 00:00:00</td>\n",
       "      <td>3210.750000</td>\n",
       "      <td>7.495051e+05</td>\n",
       "      <td>0.934330</td>\n",
       "      <td>2553.500000</td>\n",
       "      <td>244.000000</td>\n",
       "    </tr>\n",
       "    <tr>\n",
       "      <th>max</th>\n",
       "      <td>2019-01-29 00:00:00</td>\n",
       "      <td>4303.000000</td>\n",
       "      <td>1.005137e+06</td>\n",
       "      <td>1.069746</td>\n",
       "      <td>3426.000000</td>\n",
       "      <td>330.000000</td>\n",
       "    </tr>\n",
       "    <tr>\n",
       "      <th>std</th>\n",
       "      <td>NaN</td>\n",
       "      <td>1287.778191</td>\n",
       "      <td>2.984599e+05</td>\n",
       "      <td>0.111335</td>\n",
       "      <td>1019.612227</td>\n",
       "      <td>104.260321</td>\n",
       "    </tr>\n",
       "  </tbody>\n",
       "</table>\n",
       "</div>"
      ],
      "text/plain": [
       "                      date     requests           gmv  coupon per trip  \\\n",
       "count                   58    58.000000  5.800000e+01        58.000000   \n",
       "mean   2019-01-15 00:00:00  2046.224138  4.820680e+05         0.848199   \n",
       "min    2019-01-01 00:00:00    30.000000  7.382210e+03         0.723737   \n",
       "25%    2019-01-08 00:00:00   968.750000  2.336387e+05         0.756524   \n",
       "50%    2019-01-15 00:00:00  2203.500000  5.092359e+05         0.790527   \n",
       "75%    2019-01-22 00:00:00  3210.750000  7.495051e+05         0.934330   \n",
       "max    2019-01-29 00:00:00  4303.000000  1.005137e+06         1.069746   \n",
       "std                    NaN  1287.778191  2.984599e+05         0.111335   \n",
       "\n",
       "             trips  canceled requests  \n",
       "count    58.000000          58.000000  \n",
       "mean   1633.551724         146.431034  \n",
       "min      24.000000           1.000000  \n",
       "25%     799.250000          45.500000  \n",
       "50%    1745.000000         168.000000  \n",
       "75%    2553.500000         244.000000  \n",
       "max    3426.000000         330.000000  \n",
       "std    1019.612227         104.260321  "
      ]
     },
     "execution_count": 6,
     "metadata": {},
     "output_type": "execute_result"
    }
   ],
   "source": [
    "# 异常值\n",
    "dataset.describe()"
   ]
  },
  {
   "cell_type": "code",
   "execution_count": 7,
   "id": "29b76c58-f11f-487d-b9d5-ed61ba8a982e",
   "metadata": {},
   "outputs": [
    {
     "name": "stdout",
     "output_type": "stream",
     "text": [
      "<class 'pandas.core.frame.DataFrame'>\n",
      "RangeIndex: 58 entries, 0 to 57\n",
      "Data columns (total 7 columns):\n",
      " #   Column             Non-Null Count  Dtype         \n",
      "---  ------             --------------  -----         \n",
      " 0   date               58 non-null     datetime64[ns]\n",
      " 1   group              58 non-null     object        \n",
      " 2   requests           58 non-null     int64         \n",
      " 3   gmv                58 non-null     float64       \n",
      " 4   coupon per trip    58 non-null     float64       \n",
      " 5   trips              58 non-null     int64         \n",
      " 6   canceled requests  58 non-null     int64         \n",
      "dtypes: datetime64[ns](1), float64(2), int64(3), object(1)\n",
      "memory usage: 3.3+ KB\n"
     ]
    }
   ],
   "source": [
    "# 类型\n",
    "dataset.info()"
   ]
  },
  {
   "cell_type": "code",
   "execution_count": 8,
   "id": "ca1925c5-0bb8-4357-acb7-fa6667698fa2",
   "metadata": {},
   "outputs": [
    {
     "name": "stdout",
     "output_type": "stream",
     "text": [
      "<class 'pandas.core.frame.DataFrame'>\n",
      "RangeIndex: 58 entries, 0 to 57\n",
      "Data columns (total 8 columns):\n",
      " #   Column             Non-Null Count  Dtype         \n",
      "---  ------             --------------  -----         \n",
      " 0   date               58 non-null     datetime64[ns]\n",
      " 1   group              58 non-null     object        \n",
      " 2   requests           58 non-null     int64         \n",
      " 3   gmv                58 non-null     float64       \n",
      " 4   coupon per trip    58 non-null     float64       \n",
      " 5   trips              58 non-null     int64         \n",
      " 6   canceled requests  58 non-null     int64         \n",
      " 7   ROI                58 non-null     float64       \n",
      "dtypes: datetime64[ns](1), float64(3), int64(3), object(1)\n",
      "memory usage: 3.8+ KB\n"
     ]
    }
   ],
   "source": [
    "# 计算ROI\n",
    "dataset['ROI']=dataset['gmv'] / (dataset['coupon per trip']*dataset['trips'])\n",
    "dataset.info()"
   ]
  },
  {
   "cell_type": "code",
   "execution_count": 9,
   "id": "fd028a83-95be-41b7-ac3f-818b6140a264",
   "metadata": {},
   "outputs": [
    {
     "data": {
      "text/plain": [
       "((29,), (29,))"
      ]
     },
     "execution_count": 9,
     "metadata": {},
     "output_type": "execute_result"
    }
   ],
   "source": [
    "# AB测试\n",
    "import scipy.stats as st\n",
    "# requests检验\n",
    "requests_A = dataset[dataset['group'] == 'control']['requests']\n",
    "requests_B = dataset[dataset['group'] == 'experiment']['requests']\n",
    "requests_A.shape,requests_B.shape"
   ]
  },
  {
   "cell_type": "code",
   "execution_count": 10,
   "id": "2537aa76-3048-480c-aa1a-a7d55eb02a3f",
   "metadata": {},
   "outputs": [
    {
     "data": {
      "text/plain": [
       "TtestResult(statistic=1.6436140982479508, pvalue=0.11143970454099936, df=28)"
      ]
     },
     "execution_count": 10,
     "metadata": {},
     "output_type": "execute_result"
    }
   ],
   "source": [
    "# 均值差异性验证\n",
    "st.ttest_rel(requests_A, requests_B)"
   ]
  },
  {
   "cell_type": "code",
   "execution_count": 11,
   "id": "4967cd24-f156-446e-b988-bb401bc3eac1",
   "metadata": {},
   "outputs": [
    {
     "data": {
      "text/plain": [
       "LeveneResult(statistic=0.014685075667736849, pvalue=0.903980667108546)"
      ]
     },
     "execution_count": 11,
     "metadata": {},
     "output_type": "execute_result"
    }
   ],
   "source": [
    "# 方差差异验证\n",
    "st.levene(requests_A, requests_B)"
   ]
  },
  {
   "cell_type": "code",
   "execution_count": 12,
   "id": "757c66f8-7a28-4bef-965f-318bb9654ca0",
   "metadata": {},
   "outputs": [
    {
     "data": {
      "text/plain": [
       "((29,), (29,))"
      ]
     },
     "execution_count": 12,
     "metadata": {},
     "output_type": "execute_result"
    }
   ],
   "source": [
    "# gmv检验\n",
    "gmv_A = dataset[dataset['group'] == 'control']['gmv']\n",
    "gmv_B = dataset[dataset['group'] == 'experiment']['gmv']\n",
    "gmv_A.shape, gmv_B.shape"
   ]
  },
  {
   "cell_type": "code",
   "execution_count": 13,
   "id": "96078f73-368a-44a2-bc30-77879be02494",
   "metadata": {},
   "outputs": [
    {
     "data": {
      "text/plain": [
       "TtestResult(statistic=4.247583846321442, pvalue=0.00021564303983362577, df=28)"
      ]
     },
     "execution_count": 13,
     "metadata": {},
     "output_type": "execute_result"
    }
   ],
   "source": [
    "# 均值差异性验证\n",
    "st.ttest_rel(gmv_A, gmv_B)"
   ]
  },
  {
   "cell_type": "code",
   "execution_count": 14,
   "id": "1e1f2ba0-f523-4594-a6e0-69c53f73815f",
   "metadata": {},
   "outputs": [
    {
     "data": {
      "text/plain": [
       "LeveneResult(statistic=0.02865341299111212, pvalue=0.8661917430097603)"
      ]
     },
     "execution_count": 14,
     "metadata": {},
     "output_type": "execute_result"
    }
   ],
   "source": [
    "# 方差差异性验证\n",
    "st.levene(gmv_A, gmv_B)"
   ]
  },
  {
   "cell_type": "code",
   "execution_count": 15,
   "id": "6ec8b7b4-2070-4f17-a54e-dd90f64fc818",
   "metadata": {},
   "outputs": [],
   "source": [
    "# coupon per trip\n",
    "coupon_per_trip_A = dataset[dataset['group'] == 'control']['coupon per trip']\n",
    "coupon_per_trip_B = dataset[dataset['group'] == 'experiment']['coupon per trip']"
   ]
  },
  {
   "cell_type": "code",
   "execution_count": 16,
   "id": "fe3d6d89-8112-488d-bd3d-e31f74c3b504",
   "metadata": {},
   "outputs": [
    {
     "data": {
      "text/plain": [
       "TtestResult(statistic=-3.8845928689393925, pvalue=0.0005721122948813923, df=28)"
      ]
     },
     "execution_count": 16,
     "metadata": {},
     "output_type": "execute_result"
    }
   ],
   "source": [
    "# 均值差异性检验\n",
    "st.ttest_rel(coupon_per_trip_A, coupon_per_trip_B)"
   ]
  },
  {
   "cell_type": "code",
   "execution_count": 17,
   "id": "dfbc19c8-b5fc-4692-92bc-ab348081b8be",
   "metadata": {},
   "outputs": [
    {
     "data": {
      "text/plain": [
       "LeveneResult(statistic=0.0092859806424074, pvalue=0.9235756845139632)"
      ]
     },
     "execution_count": 17,
     "metadata": {},
     "output_type": "execute_result"
    }
   ],
   "source": [
    "# 方差差异性检验\n",
    "st.levene(coupon_per_trip_A, coupon_per_trip_B)"
   ]
  },
  {
   "cell_type": "code",
   "execution_count": 18,
   "id": "82c9565f-5abb-4606-9fde-9d5eed18dabe",
   "metadata": {},
   "outputs": [],
   "source": [
    "# trips\n",
    "trips_A = dataset[dataset['group'] == 'control']['trips']\n",
    "trips_B = dataset[dataset['group'] == 'experiment']['trips']"
   ]
  },
  {
   "cell_type": "code",
   "execution_count": 19,
   "id": "5b352512-641a-4d65-bd38-02040f736334",
   "metadata": {},
   "outputs": [
    {
     "data": {
      "text/plain": [
       "TtestResult(statistic=0.7810895909773122, pvalue=0.44130424519274314, df=28)"
      ]
     },
     "execution_count": 19,
     "metadata": {},
     "output_type": "execute_result"
    }
   ],
   "source": [
    "# 均值差异性检验\n",
    "st.ttest_rel(trips_A, trips_B)"
   ]
  },
  {
   "cell_type": "code",
   "execution_count": 20,
   "id": "2be24bb7-79bb-4f64-97bb-114bdacb65d0",
   "metadata": {},
   "outputs": [
    {
     "data": {
      "text/plain": [
       "LeveneResult(statistic=0.01240713608686455, pvalue=0.9117074911836607)"
      ]
     },
     "execution_count": 20,
     "metadata": {},
     "output_type": "execute_result"
    }
   ],
   "source": [
    "# 方差差异性检验\n",
    "st.levene(trips_A, trips_B)"
   ]
  },
  {
   "cell_type": "code",
   "execution_count": 21,
   "id": "b5618bb6-bdb0-4bff-8289-ada9f5f800f3",
   "metadata": {},
   "outputs": [],
   "source": [
    "# canceled requests\n",
    "canceled_requests_A = dataset[dataset['group'] == 'control']['canceled requests']\n",
    "canceled_requests_B = dataset[dataset['group'] == 'experiment']['canceled requests']"
   ]
  },
  {
   "cell_type": "code",
   "execution_count": 22,
   "id": "3619ad6d-6178-4031-bb0f-25219098382a",
   "metadata": {},
   "outputs": [
    {
     "data": {
      "text/plain": [
       "TtestResult(statistic=6.70818756901086, pvalue=2.783816041042884e-07, df=28)"
      ]
     },
     "execution_count": 22,
     "metadata": {},
     "output_type": "execute_result"
    }
   ],
   "source": [
    "# 均值差异性检验\n",
    "st.ttest_rel(canceled_requests_A, canceled_requests_B)"
   ]
  },
  {
   "cell_type": "code",
   "execution_count": 23,
   "id": "2ed48ad6-19e9-4a77-850c-e796dc30dfde",
   "metadata": {},
   "outputs": [
    {
     "data": {
      "text/plain": [
       "LeveneResult(statistic=0.04130920878658331, pvalue=0.8396789598925986)"
      ]
     },
     "execution_count": 23,
     "metadata": {},
     "output_type": "execute_result"
    }
   ],
   "source": [
    "# 方差差异性检验\n",
    "st.levene(canceled_requests_A, canceled_requests_B)"
   ]
  },
  {
   "cell_type": "code",
   "execution_count": 24,
   "id": "dea98829-ad8c-479e-9480-2951f99cc910",
   "metadata": {},
   "outputs": [],
   "source": [
    "# ROI\n",
    "ROI_A = dataset[dataset['group'] == 'control']['ROI']\n",
    "ROI_B = dataset[dataset['group'] == 'experiment']['ROI']"
   ]
  },
  {
   "cell_type": "code",
   "execution_count": 25,
   "id": "5723670b-2003-4852-82ab-63fb7cb9257a",
   "metadata": {},
   "outputs": [
    {
     "data": {
      "text/plain": [
       "TtestResult(statistic=10.305504459268173, pvalue=4.93261342734923e-11, df=28)"
      ]
     },
     "execution_count": 25,
     "metadata": {},
     "output_type": "execute_result"
    }
   ],
   "source": [
    "# 均值差异性检验\n",
    "st.ttest_rel(ROI_A, ROI_B)"
   ]
  },
  {
   "cell_type": "code",
   "execution_count": 26,
   "id": "ce4c5da3-fc3b-4a1d-af0d-bb808fba3204",
   "metadata": {},
   "outputs": [
    {
     "data": {
      "text/plain": [
       "LeveneResult(statistic=0.10363884745479335, pvalue=0.7487044961896305)"
      ]
     },
     "execution_count": 26,
     "metadata": {},
     "output_type": "execute_result"
    }
   ],
   "source": [
    "# 方差差异型检验\n",
    "st.levene(ROI_A, ROI_B)"
   ]
  },
  {
   "cell_type": "code",
   "execution_count": 27,
   "id": "a22dad04-29e8-49ca-bd5e-ba97bb0e1207",
   "metadata": {},
   "outputs": [
    {
     "data": {
      "text/html": [
       "<div>\n",
       "<style scoped>\n",
       "    .dataframe tbody tr th:only-of-type {\n",
       "        vertical-align: middle;\n",
       "    }\n",
       "\n",
       "    .dataframe tbody tr th {\n",
       "        vertical-align: top;\n",
       "    }\n",
       "\n",
       "    .dataframe thead th {\n",
       "        text-align: right;\n",
       "    }\n",
       "</style>\n",
       "<table border=\"1\" class=\"dataframe\">\n",
       "  <thead>\n",
       "    <tr style=\"text-align: right;\">\n",
       "      <th></th>\n",
       "      <th>date</th>\n",
       "      <th>hour</th>\n",
       "      <th>requests</th>\n",
       "      <th>trips</th>\n",
       "      <th>supply hours</th>\n",
       "      <th>average minutes of trips</th>\n",
       "      <th>pETA</th>\n",
       "      <th>aETA</th>\n",
       "      <th>utiliz</th>\n",
       "    </tr>\n",
       "  </thead>\n",
       "  <tbody>\n",
       "    <tr>\n",
       "      <th>0</th>\n",
       "      <td>2013-09-01</td>\n",
       "      <td>11</td>\n",
       "      <td>79</td>\n",
       "      <td>55</td>\n",
       "      <td>42.63</td>\n",
       "      <td>20.43</td>\n",
       "      <td>5.51</td>\n",
       "      <td>7.19</td>\n",
       "      <td>0.479240</td>\n",
       "    </tr>\n",
       "    <tr>\n",
       "      <th>1</th>\n",
       "      <td>2013-09-01</td>\n",
       "      <td>12</td>\n",
       "      <td>73</td>\n",
       "      <td>41</td>\n",
       "      <td>36.43</td>\n",
       "      <td>15.53</td>\n",
       "      <td>5.48</td>\n",
       "      <td>8.48</td>\n",
       "      <td>0.426297</td>\n",
       "    </tr>\n",
       "    <tr>\n",
       "      <th>2</th>\n",
       "      <td>2013-09-01</td>\n",
       "      <td>13</td>\n",
       "      <td>54</td>\n",
       "      <td>50</td>\n",
       "      <td>23.02</td>\n",
       "      <td>17.76</td>\n",
       "      <td>5.07</td>\n",
       "      <td>8.94</td>\n",
       "      <td>0.771503</td>\n",
       "    </tr>\n",
       "    <tr>\n",
       "      <th>3</th>\n",
       "      <td>2013-09-02</td>\n",
       "      <td>11</td>\n",
       "      <td>193</td>\n",
       "      <td>170</td>\n",
       "      <td>64.20</td>\n",
       "      <td>31.47</td>\n",
       "      <td>5.31</td>\n",
       "      <td>6.55</td>\n",
       "      <td>0.490187</td>\n",
       "    </tr>\n",
       "    <tr>\n",
       "      <th>4</th>\n",
       "      <td>2013-09-02</td>\n",
       "      <td>12</td>\n",
       "      <td>258</td>\n",
       "      <td>210</td>\n",
       "      <td>80.28</td>\n",
       "      <td>38.68</td>\n",
       "      <td>4.94</td>\n",
       "      <td>6.08</td>\n",
       "      <td>0.481814</td>\n",
       "    </tr>\n",
       "  </tbody>\n",
       "</table>\n",
       "</div>"
      ],
      "text/plain": [
       "        date  hour  requests  trips  supply hours  average minutes of trips  \\\n",
       "0 2013-09-01    11        79     55         42.63                     20.43   \n",
       "1 2013-09-01    12        73     41         36.43                     15.53   \n",
       "2 2013-09-01    13        54     50         23.02                     17.76   \n",
       "3 2013-09-02    11       193    170         64.20                     31.47   \n",
       "4 2013-09-02    12       258    210         80.28                     38.68   \n",
       "\n",
       "   pETA  aETA    utiliz  \n",
       "0  5.51  7.19  0.479240  \n",
       "1  5.48  8.48  0.426297  \n",
       "2  5.07  8.94  0.771503  \n",
       "3  5.31  6.55  0.490187  \n",
       "4  4.94  6.08  0.481814  "
      ]
     },
     "execution_count": 27,
     "metadata": {},
     "output_type": "execute_result"
    }
   ],
   "source": [
    "# 城市运营分析\n",
    "# 数据导入\n",
    "citys = pd.read_excel(r\"D:\\Codes\\data\\city.xlsx\")\n",
    "citys.head()"
   ]
  },
  {
   "cell_type": "code",
   "execution_count": 28,
   "id": "11b63500-8443-4c63-9b71-22732982d28b",
   "metadata": {},
   "outputs": [
    {
     "name": "stdout",
     "output_type": "stream",
     "text": [
      "<class 'pandas.core.frame.DataFrame'>\n",
      "RangeIndex: 90 entries, 0 to 89\n",
      "Data columns (total 9 columns):\n",
      " #   Column                    Non-Null Count  Dtype         \n",
      "---  ------                    --------------  -----         \n",
      " 0   date                      90 non-null     datetime64[ns]\n",
      " 1   hour                      90 non-null     int64         \n",
      " 2   requests                  90 non-null     int64         \n",
      " 3   trips                     90 non-null     int64         \n",
      " 4   supply hours              90 non-null     float64       \n",
      " 5   average minutes of trips  90 non-null     float64       \n",
      " 6   pETA                      90 non-null     float64       \n",
      " 7   aETA                      90 non-null     float64       \n",
      " 8   utiliz                    90 non-null     float64       \n",
      "dtypes: datetime64[ns](1), float64(5), int64(3)\n",
      "memory usage: 6.5 KB\n"
     ]
    }
   ],
   "source": [
    "# 数据清洗\n",
    "# 类型\n",
    "citys.info()"
   ]
  },
  {
   "cell_type": "code",
   "execution_count": 29,
   "id": "83f7cb09-8ff7-4aa5-82f0-fe75769ea200",
   "metadata": {},
   "outputs": [
    {
     "data": {
      "text/plain": [
       "date                        0\n",
       "hour                        0\n",
       "requests                    0\n",
       "trips                       0\n",
       "supply hours                0\n",
       "average minutes of trips    0\n",
       "pETA                        0\n",
       "aETA                        0\n",
       "utiliz                      0\n",
       "dtype: int64"
      ]
     },
     "execution_count": 29,
     "metadata": {},
     "output_type": "execute_result"
    }
   ],
   "source": [
    "# 空\n",
    "citys.isna().sum()"
   ]
  },
  {
   "cell_type": "code",
   "execution_count": 30,
   "id": "f744f7d5-e7e4-4ff9-9b1d-a3c3b96d4433",
   "metadata": {},
   "outputs": [
    {
     "data": {
      "text/plain": [
       "0"
      ]
     },
     "execution_count": 30,
     "metadata": {},
     "output_type": "execute_result"
    }
   ],
   "source": [
    "# 重\n",
    "citys.duplicated().sum()"
   ]
  },
  {
   "cell_type": "code",
   "execution_count": 31,
   "id": "b865625a-2454-4e08-9c93-f3797fc36024",
   "metadata": {},
   "outputs": [
    {
     "data": {
      "text/html": [
       "<div>\n",
       "<style scoped>\n",
       "    .dataframe tbody tr th:only-of-type {\n",
       "        vertical-align: middle;\n",
       "    }\n",
       "\n",
       "    .dataframe tbody tr th {\n",
       "        vertical-align: top;\n",
       "    }\n",
       "\n",
       "    .dataframe thead th {\n",
       "        text-align: right;\n",
       "    }\n",
       "</style>\n",
       "<table border=\"1\" class=\"dataframe\">\n",
       "  <thead>\n",
       "    <tr style=\"text-align: right;\">\n",
       "      <th></th>\n",
       "      <th>date</th>\n",
       "      <th>hour</th>\n",
       "      <th>requests</th>\n",
       "      <th>trips</th>\n",
       "      <th>supply hours</th>\n",
       "      <th>average minutes of trips</th>\n",
       "      <th>pETA</th>\n",
       "      <th>aETA</th>\n",
       "      <th>utiliz</th>\n",
       "    </tr>\n",
       "  </thead>\n",
       "  <tbody>\n",
       "    <tr>\n",
       "      <th>count</th>\n",
       "      <td>90</td>\n",
       "      <td>90.000000</td>\n",
       "      <td>90.000000</td>\n",
       "      <td>90.000000</td>\n",
       "      <td>90.000000</td>\n",
       "      <td>90.000000</td>\n",
       "      <td>90.000000</td>\n",
       "      <td>90.00000</td>\n",
       "      <td>90.000000</td>\n",
       "    </tr>\n",
       "    <tr>\n",
       "      <th>mean</th>\n",
       "      <td>2013-09-15 12:00:00</td>\n",
       "      <td>12.000000</td>\n",
       "      <td>234.411111</td>\n",
       "      <td>149.833333</td>\n",
       "      <td>52.807111</td>\n",
       "      <td>29.051333</td>\n",
       "      <td>5.758556</td>\n",
       "      <td>7.19900</td>\n",
       "      <td>0.558130</td>\n",
       "    </tr>\n",
       "    <tr>\n",
       "      <th>min</th>\n",
       "      <td>2013-09-01 00:00:00</td>\n",
       "      <td>11.000000</td>\n",
       "      <td>15.000000</td>\n",
       "      <td>6.000000</td>\n",
       "      <td>11.250000</td>\n",
       "      <td>9.050000</td>\n",
       "      <td>2.430000</td>\n",
       "      <td>4.61000</td>\n",
       "      <td>0.299312</td>\n",
       "    </tr>\n",
       "    <tr>\n",
       "      <th>25%</th>\n",
       "      <td>2013-09-08 00:00:00</td>\n",
       "      <td>11.000000</td>\n",
       "      <td>91.250000</td>\n",
       "      <td>50.000000</td>\n",
       "      <td>32.417500</td>\n",
       "      <td>16.025000</td>\n",
       "      <td>5.085000</td>\n",
       "      <td>6.38250</td>\n",
       "      <td>0.427019</td>\n",
       "    </tr>\n",
       "    <tr>\n",
       "      <th>50%</th>\n",
       "      <td>2013-09-15 12:00:00</td>\n",
       "      <td>12.000000</td>\n",
       "      <td>234.500000</td>\n",
       "      <td>138.000000</td>\n",
       "      <td>52.570000</td>\n",
       "      <td>27.495000</td>\n",
       "      <td>5.725000</td>\n",
       "      <td>7.06500</td>\n",
       "      <td>0.534818</td>\n",
       "    </tr>\n",
       "    <tr>\n",
       "      <th>75%</th>\n",
       "      <td>2013-09-23 00:00:00</td>\n",
       "      <td>13.000000</td>\n",
       "      <td>327.750000</td>\n",
       "      <td>238.000000</td>\n",
       "      <td>67.135000</td>\n",
       "      <td>39.055000</td>\n",
       "      <td>6.475000</td>\n",
       "      <td>8.04750</td>\n",
       "      <td>0.669226</td>\n",
       "    </tr>\n",
       "    <tr>\n",
       "      <th>max</th>\n",
       "      <td>2013-09-30 00:00:00</td>\n",
       "      <td>13.000000</td>\n",
       "      <td>558.000000</td>\n",
       "      <td>420.000000</td>\n",
       "      <td>118.930000</td>\n",
       "      <td>73.620000</td>\n",
       "      <td>8.050000</td>\n",
       "      <td>12.06000</td>\n",
       "      <td>0.970345</td>\n",
       "    </tr>\n",
       "    <tr>\n",
       "      <th>std</th>\n",
       "      <td>NaN</td>\n",
       "      <td>0.821071</td>\n",
       "      <td>143.187933</td>\n",
       "      <td>105.484889</td>\n",
       "      <td>22.480067</td>\n",
       "      <td>14.343199</td>\n",
       "      <td>1.079037</td>\n",
       "      <td>1.23975</td>\n",
       "      <td>0.159561</td>\n",
       "    </tr>\n",
       "  </tbody>\n",
       "</table>\n",
       "</div>"
      ],
      "text/plain": [
       "                      date       hour    requests       trips  supply hours  \\\n",
       "count                   90  90.000000   90.000000   90.000000     90.000000   \n",
       "mean   2013-09-15 12:00:00  12.000000  234.411111  149.833333     52.807111   \n",
       "min    2013-09-01 00:00:00  11.000000   15.000000    6.000000     11.250000   \n",
       "25%    2013-09-08 00:00:00  11.000000   91.250000   50.000000     32.417500   \n",
       "50%    2013-09-15 12:00:00  12.000000  234.500000  138.000000     52.570000   \n",
       "75%    2013-09-23 00:00:00  13.000000  327.750000  238.000000     67.135000   \n",
       "max    2013-09-30 00:00:00  13.000000  558.000000  420.000000    118.930000   \n",
       "std                    NaN   0.821071  143.187933  105.484889     22.480067   \n",
       "\n",
       "       average minutes of trips       pETA      aETA     utiliz  \n",
       "count                 90.000000  90.000000  90.00000  90.000000  \n",
       "mean                  29.051333   5.758556   7.19900   0.558130  \n",
       "min                    9.050000   2.430000   4.61000   0.299312  \n",
       "25%                   16.025000   5.085000   6.38250   0.427019  \n",
       "50%                   27.495000   5.725000   7.06500   0.534818  \n",
       "75%                   39.055000   6.475000   8.04750   0.669226  \n",
       "max                   73.620000   8.050000  12.06000   0.970345  \n",
       "std                   14.343199   1.079037   1.23975   0.159561  "
      ]
     },
     "execution_count": 31,
     "metadata": {},
     "output_type": "execute_result"
    }
   ],
   "source": [
    "# 异常值\n",
    "citys.describe()"
   ]
  },
  {
   "cell_type": "code",
   "execution_count": 32,
   "id": "11ff670b-96ec-4d20-a5a8-79f2002f488d",
   "metadata": {},
   "outputs": [
    {
     "data": {
      "text/plain": [
       "date                        30\n",
       "hour                         3\n",
       "requests                    83\n",
       "trips                       74\n",
       "supply hours                89\n",
       "average minutes of trips    89\n",
       "pETA                        83\n",
       "aETA                        83\n",
       "utiliz                      90\n",
       "dtype: int64"
      ]
     },
     "execution_count": 32,
     "metadata": {},
     "output_type": "execute_result"
    }
   ],
   "source": [
    "# 无用列\n",
    "citys.nunique()"
   ]
  }
 ],
 "metadata": {
  "kernelspec": {
   "display_name": "Python 3 (ipykernel)",
   "language": "python",
   "name": "python3"
  },
  "language_info": {
   "codemirror_mode": {
    "name": "ipython",
    "version": 3
   },
   "file_extension": ".py",
   "mimetype": "text/x-python",
   "name": "python",
   "nbconvert_exporter": "python",
   "pygments_lexer": "ipython3",
   "version": "3.10.13"
  }
 },
 "nbformat": 4,
 "nbformat_minor": 5
}
